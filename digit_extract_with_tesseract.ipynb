{
 "cells": [
  {
   "cell_type": "markdown",
   "metadata": {},
   "source": [
    "# Digit recognition using tesseract approach\n",
    "At the moment this method recognises all the digits in the examples, however it is very slow."
   ]
  },
  {
   "cell_type": "code",
   "execution_count": 1,
   "metadata": {},
   "outputs": [],
   "source": [
    "import cv2\n",
    "import numpy as np\n",
    "import matplotlib.pyplot as plt\n",
    "import operator\n",
    "\n",
    "import pytesseract\n",
    "\n",
    "pytesseract.pytesseract.tesseract_cmd = 'C:\\\\Program Files (x86)\\\\Tesseract-OCR\\\\tesseract.exe'"
   ]
  },
  {
   "cell_type": "code",
   "execution_count": 2,
   "metadata": {},
   "outputs": [
    {
     "data": {
      "text/plain": [
       "(300, 300)"
      ]
     },
     "execution_count": 2,
     "metadata": {},
     "output_type": "execute_result"
    },
    {
     "data": {
      "image/png": "[encoded data removed]",
      "text/plain": [
       "<Figure size 432x288 with 1 Axes>"
      ]
     },
     "metadata": {
      "needs_background": "light"
     },
     "output_type": "display_data"
    }
   ],
   "source": [
    "img_raw = cv2.imread('Resources/first.jpg')\n",
    "img_gray = cv2.cvtColor(img_raw, cv2.COLOR_BGR2GRAY)\n",
    "\n",
    "img_blur = cv2.GaussianBlur(img_gray, (7, 7), 0)\n",
    "img = cv2.adaptiveThreshold(img_blur, 255, cv2.ADAPTIVE_THRESH_GAUSSIAN_C, cv2.THRESH_BINARY, 11, 2)\n",
    "plt.imshow(img)\n",
    "img.shape"
   ]
  },
  {
   "cell_type": "code",
   "execution_count": 3,
   "metadata": {},
   "outputs": [],
   "source": [
    "top_left, top_right, bottom_right, bottom_left = [0,0], [img.shape[0]-1,0], [img.shape[0]-1,img.shape[1]-1], [0,img.shape[1]-1]"
   ]
  },
  {
   "cell_type": "code",
   "execution_count": 4,
   "metadata": {},
   "outputs": [],
   "source": [
    "src = np.array([top_left, top_right, bottom_right, bottom_left], dtype='float32')\n",
    "#src"
   ]
  },
  {
   "cell_type": "code",
   "execution_count": 5,
   "metadata": {},
   "outputs": [],
   "source": [
    "def distance_between(p1, p2):\n",
    "    \"\"\"Returns the scalar distance between two points\"\"\"\n",
    "    a = p2[0] - p1[0]\n",
    "    b = p2[1] - p1[1]\n",
    "    return np.sqrt((a ** 2) + (b ** 2))"
   ]
  },
  {
   "cell_type": "code",
   "execution_count": 6,
   "metadata": {},
   "outputs": [],
   "source": [
    "side = max([\n",
    "    distance_between(bottom_right, top_right),\n",
    "    distance_between(top_left, bottom_left),\n",
    "    distance_between(bottom_right, bottom_left),\n",
    "    distance_between(top_left, top_right)\n",
    "])"
   ]
  },
  {
   "cell_type": "code",
   "execution_count": 7,
   "metadata": {},
   "outputs": [],
   "source": [
    "squares = []\n",
    "side = img.shape[:1]\n",
    "side = side[0] / 9\n"
   ]
  },
  {
   "cell_type": "code",
   "execution_count": 8,
   "metadata": {},
   "outputs": [],
   "source": [
    "for j in range(9):\n",
    "        for i in range(9):\n",
    "            squares.append(img[i*int(side)+5:(i+1)*int(side), j*int(side)+5:(j+1)*int(side)])\n"
   ]
  },
  {
   "cell_type": "code",
   "execution_count": 13,
   "metadata": {},
   "outputs": [
    {
     "data": {
      "text/plain": [
       "'8'"
      ]
     },
     "execution_count": 13,
     "metadata": {},
     "output_type": "execute_result"
    },
    {
     "data": {
      "image/png": "[encoded data removed]",
      "text/plain": [
       "<Figure size 432x288 with 1 Axes>"
      ]
     },
     "metadata": {
      "needs_background": "light"
     },
     "output_type": "display_data"
    }
   ],
   "source": [
    "plt.imshow(squares[6]);\n",
    "conf = r'--oem 3 --psm 6 outputbase digits'\n",
    "pytesseract.image_to_string(squares[6],config=conf).strip()"
   ]
  },
  {
   "cell_type": "code",
   "execution_count": 10,
   "metadata": {},
   "outputs": [],
   "source": [
    "def read_number(square):\n",
    "    conf = r'--oem 3 --psm 6 outputbase digits'\n",
    "    result = pytesseract.image_to_string(square,config=conf).strip()\n",
    "    try:\n",
    "        result = int(result)\n",
    "        if result in range(10):\n",
    "            return result\n",
    "    except:\n",
    "        return 0\n"
   ]
  },
  {
   "cell_type": "code",
   "execution_count": 11,
   "metadata": {},
   "outputs": [],
   "source": [
    "r = map(read_number, squares)"
   ]
  },
  {
   "cell_type": "code",
   "execution_count": 16,
   "metadata": {
    "scrolled": true
   },
   "outputs": [],
   "source": [
    "r = []\n",
    "for i in range(len(squares)):\n",
    "    r.append(read_number(squares[i]))"
   ]
  },
  {
   "cell_type": "code",
   "execution_count": 17,
   "metadata": {},
   "outputs": [],
   "source": [
    "Sudoku_out = []\n",
    "Sudoku_out = np.array(r).reshape((9,9)).transpose()"
   ]
  },
  {
   "cell_type": "code",
   "execution_count": 18,
   "metadata": {},
   "outputs": [
    {
     "data": {
      "text/plain": [
       "<matplotlib.image.AxesImage at 0x2136159b390>"
      ]
     },
     "execution_count": 18,
     "metadata": {},
     "output_type": "execute_result"
    },
    {
     "data": {
      "image/png": "[encoded data removed]",
      "text/plain": [
       "<Figure size 432x288 with 1 Axes>"
      ]
     },
     "metadata": {
      "needs_background": "light"
     },
     "output_type": "display_data"
    }
   ],
   "source": [
    "img = cv2.imread('Resources/first.jpg')\n",
    "img = cv2.cvtColor(img, cv2.COLOR_BGR2GRAY)\n",
    "\n",
    "img = cv2.GaussianBlur(img, (9, 9), 0)\n",
    "img = cv2.adaptiveThreshold(img, 255, cv2.ADAPTIVE_THRESH_GAUSSIAN_C, cv2.THRESH_BINARY, 11, 2)\n",
    "plt.imshow(img)"
   ]
  },
  {
   "cell_type": "markdown",
   "metadata": {},
   "source": [
    "# Sudoku Solver with Backtracking"
   ]
  },
  {
   "cell_type": "code",
   "execution_count": 19,
   "metadata": {},
   "outputs": [],
   "source": [
    "def print_puzzle(pz):\n",
    "    for i in range(len(pz)):\n",
    "        if i % 3 == 0 and i != 0:\n",
    "            print(\"- - - - - - - - - - - - - \")\n",
    "\n",
    "        for j in range(len(pz[0])):\n",
    "            if j % 3 == 0 and j != 0:\n",
    "                print(\" | \", end=\"\")\n",
    "\n",
    "            if j == 8:\n",
    "                print(pz[i][j])\n",
    "            else:\n",
    "                print(str(pz[i][j]) + \" \", end=\"\")"
   ]
  },
  {
   "cell_type": "code",
   "execution_count": 20,
   "metadata": {},
   "outputs": [],
   "source": [
    "def solve(pz):\n",
    "    find = find_empty(pz)\n",
    "    if not find:\n",
    "        return True\n",
    "    else:\n",
    "        row, col = find\n",
    "\n",
    "    for i in range(1,10):\n",
    "        if valid(pz, i, (row, col)):\n",
    "            pz[row][col] = i\n",
    "\n",
    "            if solve(pz):\n",
    "                return True\n",
    "\n",
    "            pz[row][col] = 0\n",
    "\n",
    "    return False\n",
    "\n",
    "\n",
    "def valid(pz, num, pos):\n",
    "    # Check row\n",
    "    for j in range(len(pz[0])):\n",
    "        if pz[pos[0]][j] == num and pos[1] != j:\n",
    "            return False\n",
    "\n",
    "    # Check column\n",
    "    for i in range(len(pz)):\n",
    "        if pz[i][pos[1]] == num and pos[0] != i:\n",
    "            return False\n",
    "\n",
    "    # Check box\n",
    "    box_x = pos[1] // 3\n",
    "    box_y = pos[0] // 3\n",
    "\n",
    "    for i in range(box_y*3, box_y*3 + 3):\n",
    "        for j in range(box_x * 3, box_x*3 + 3):\n",
    "            if pz[i][j] == num and (i,j) != pos:\n",
    "                return False\n",
    "\n",
    "    return True\n",
    "\n",
    "\n",
    "def find_empty(pz):\n",
    "    for i in range(len(pz)):\n",
    "        for j in range(len(pz[0])):\n",
    "            if pz[i][j] == 0:\n",
    "                return (i, j)  # row, col\n",
    "\n",
    "    return None"
   ]
  },
  {
   "cell_type": "code",
   "execution_count": 21,
   "metadata": {},
   "outputs": [
    {
     "name": "stdout",
     "output_type": "stream",
     "text": [
      "4 8 9  | 2 6 1  | 5 7 3\n",
      "2 3 5  | 8 4 7  | 1 6 9\n",
      "1 6 7  | 9 3 5  | 2 8 4\n",
      "- - - - - - - - - - - - - \n",
      "6 7 8  | 1 2 3  | 9 4 5\n",
      "5 9 1  | 4 8 6  | 7 3 2\n",
      "3 4 2  | 5 7 9  | 8 1 6\n",
      "- - - - - - - - - - - - - \n",
      "8 1 4  | 6 9 2  | 3 5 7\n",
      "7 2 6  | 3 5 8  | 4 9 1\n",
      "9 5 3  | 7 1 4  | 6 2 8\n"
     ]
    }
   ],
   "source": [
    "solve(Sudoku_out)\n",
    "print_puzzle(Sudoku_out)"
   ]
  },
  {
   "cell_type": "code",
   "execution_count": null,
   "metadata": {},
   "outputs": [],
   "source": []
  }
 ],
 "metadata": {
  "kernelspec": {
   "display_name": "Python 3",
   "language": "python",
   "name": "python3"
  },
  "language_info": {
   "codemirror_mode": {
    "name": "ipython",
    "version": 3
   },
   "file_extension": ".py",
   "mimetype": "text/x-python",
   "name": "python",
   "nbconvert_exporter": "python",
   "pygments_lexer": "ipython3",
   "version": "3.7.3"
  }
 },
 "nbformat": 4,
 "nbformat_minor": 2
}
