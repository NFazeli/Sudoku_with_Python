{
 "cells": [
  {
   "cell_type": "markdown",
   "metadata": {},
   "source": [
    "# Sudoku Solver with Backtracking"
   ]
  },
  {
   "cell_type": "code",
   "execution_count": 1,
   "metadata": {},
   "outputs": [],
   "source": [
    "puzzle = [\n",
    "    [0,3,0,0,0,0,0,8,0],\n",
    "    [0,0,0,1,0,0,2,0,7],\n",
    "    [0,2,8,0,4,0,0,0,0],\n",
    "    [0,0,4,0,0,0,0,3,0],\n",
    "    [8,0,0,0,9,0,0,0,0],\n",
    "    [0,5,7,4,0,0,1,0,0],\n",
    "    [0,0,1,0,0,7,4,0,0],\n",
    "    [0,0,9,0,0,0,3,0,8],\n",
    "    [0,0,0,0,0,0,0,6,0]\n",
    "]"
   ]
  },
  {
   "cell_type": "code",
   "execution_count": 2,
   "metadata": {},
   "outputs": [],
   "source": [
    "def print_puzzle(pz):\n",
    "    for i in range(len(pz)):\n",
    "        if i % 3 == 0 and i != 0:\n",
    "            print(\"- - - - - - - - - - - - - \")\n",
    "\n",
    "        for j in range(len(pz[0])):\n",
    "            if j % 3 == 0 and j != 0:\n",
    "                print(\" | \", end=\"\")\n",
    "\n",
    "            if j == 8:\n",
    "                print(pz[i][j])\n",
    "            else:\n",
    "                print(str(pz[i][j]) + \" \", end=\"\")"
   ]
  },
  {
   "cell_type": "code",
   "execution_count": 3,
   "metadata": {},
   "outputs": [],
   "source": [
    "def solve(pz):\n",
    "    find = find_empty(pz)\n",
    "    if not find:\n",
    "        return True\n",
    "    else:\n",
    "        row, col = find\n",
    "\n",
    "    for i in range(1,10):\n",
    "        if valid(pz, i, (row, col)):\n",
    "            pz[row][col] = i\n",
    "\n",
    "            if solve(pz):\n",
    "                return True\n",
    "\n",
    "            pz[row][col] = 0\n",
    "\n",
    "    return False\n",
    "\n",
    "\n",
    "def valid(pz, num, pos):\n",
    "    # Check row\n",
    "    for j in range(len(pz[0])):\n",
    "        if pz[pos[0]][j] == num and pos[1] != j:\n",
    "            return False\n",
    "\n",
    "    # Check column\n",
    "    for i in range(len(pz)):\n",
    "        if pz[i][pos[1]] == num and pos[0] != i:\n",
    "            return False\n",
    "\n",
    "    # Check box\n",
    "    box_x = pos[1] // 3\n",
    "    box_y = pos[0] // 3\n",
    "\n",
    "    for i in range(box_y*3, box_y*3 + 3):\n",
    "        for j in range(box_x * 3, box_x*3 + 3):\n",
    "            if pz[i][j] == num and (i,j) != pos:\n",
    "                return False\n",
    "\n",
    "    return True\n",
    "\n",
    "\n",
    "def find_empty(pz):\n",
    "    for i in range(len(pz)):\n",
    "        for j in range(len(pz[0])):\n",
    "            if pz[i][j] == 0:\n",
    "                return (i, j)  # row, col\n",
    "\n",
    "    return None"
   ]
  },
  {
   "cell_type": "code",
   "execution_count": 4,
   "metadata": {},
   "outputs": [
    {
     "name": "stdout",
     "output_type": "stream",
     "text": [
      "0 3 0  | 0 0 0  | 0 8 0\n",
      "0 0 0  | 1 0 0  | 2 0 7\n",
      "0 2 8  | 0 4 0  | 0 0 0\n",
      "- - - - - - - - - - - - - \n",
      "0 0 4  | 0 0 0  | 0 3 0\n",
      "8 0 0  | 0 9 0  | 0 0 0\n",
      "0 5 7  | 4 0 0  | 1 0 0\n",
      "- - - - - - - - - - - - - \n",
      "0 0 1  | 0 0 7  | 4 0 0\n",
      "0 0 9  | 0 0 0  | 3 0 8\n",
      "0 0 0  | 0 0 0  | 0 6 0\n"
     ]
    }
   ],
   "source": [
    "print_puzzle(puzzle)"
   ]
  },
  {
   "cell_type": "code",
   "execution_count": 5,
   "metadata": {},
   "outputs": [
    {
     "name": "stdout",
     "output_type": "stream",
     "text": [
      "1 3 5  | 2 7 6  | 9 8 4\n",
      "9 4 6  | 1 3 8  | 2 5 7\n",
      "7 2 8  | 9 4 5  | 6 1 3\n",
      "- - - - - - - - - - - - - \n",
      "6 9 4  | 7 5 1  | 8 3 2\n",
      "8 1 2  | 6 9 3  | 7 4 5\n",
      "3 5 7  | 4 8 2  | 1 9 6\n",
      "- - - - - - - - - - - - - \n",
      "5 8 1  | 3 6 7  | 4 2 9\n",
      "2 6 9  | 5 1 4  | 3 7 8\n",
      "4 7 3  | 8 2 9  | 5 6 1\n"
     ]
    }
   ],
   "source": [
    "solve(puzzle)\n",
    "print_puzzle(puzzle)"
   ]
  },
  {
   "cell_type": "code",
   "execution_count": null,
   "metadata": {},
   "outputs": [],
   "source": []
  }
 ],
 "metadata": {
  "kernelspec": {
   "display_name": "Python 3",
   "language": "python",
   "name": "python3"
  },
  "language_info": {
   "codemirror_mode": {
    "name": "ipython",
    "version": 3
   },
   "file_extension": ".py",
   "mimetype": "text/x-python",
   "name": "python",
   "nbconvert_exporter": "python",
   "pygments_lexer": "ipython3",
   "version": "3.7.3"
  }
 },
 "nbformat": 4,
 "nbformat_minor": 2
}
